{
 "cells": [
  {
   "cell_type": "code",
   "execution_count": 1,
   "id": "83962022",
   "metadata": {},
   "outputs": [],
   "source": [
    "from keras.datasets import mnist\n",
    "import numpy as np\n",
    "import matplotlib.pyplot as plt\n",
    "from skimage.color import rgb2gray"
   ]
  },
  {
   "cell_type": "code",
   "execution_count": 2,
   "id": "77f5b355",
   "metadata": {},
   "outputs": [],
   "source": [
    "def train_SOM(SOM, training_data, epochs = 10, learning_rate = 0.5, radius_sq = 1, lr_decay = 0.1, r_decay = 0.1):\n",
    "    learning_rate_0 = learning_rate\n",
    "    radius_sq_0 = radius_sq\n",
    "    for epoch in range(epochs):\n",
    "        print(epoch)\n",
    "        for data in training_data:\n",
    "            x,y = bestMatchingUnit(SOM, data)\n",
    "            SOM = update_weights(SOM, data, learning_rate, radius_sq, (x,y))\n",
    "        learning_rate = learning_rate_0 * np.exp(-epoch * lr_decay)\n",
    "        radius_sq = radius_sq_0 * np.exp(-epoch * r_decay)         \n",
    "    return SOM"
   ]
  },
  {
   "cell_type": "code",
   "execution_count": 3,
   "id": "c7701fd9",
   "metadata": {},
   "outputs": [],
   "source": [
    "def update_weights(SOM, data, learning_rate, radius_sq, BMU, step = 3):\n",
    "    x,y = BMU\n",
    "    \n",
    "    if radius_sq < 1e-3:\n",
    "        SOM[x,y] += learning_rate * (data - SOM[x,y])\n",
    "        return SOM\n",
    "    \n",
    "    for i in range(max(0, x - step), min(SOM.shape[0], x + step)):\n",
    "        for j in range(max(0, y - step), min(SOM.shape[1], y + step)):\n",
    "            dist_sq = np.square(i - x) + np.square(j - y)\n",
    "            dist_func = np.exp(-dist_sq / 2 / radius_sq)\n",
    "            SOM[i,j] += learning_rate * dist_func * (data - SOM[i,j])   \n",
    "    return SOM    "
   ]
  },
  {
   "cell_type": "code",
   "execution_count": 4,
   "id": "67680087",
   "metadata": {},
   "outputs": [],
   "source": [
    "def bestMatchingUnit(SOM, data):\n",
    "    # dist = (np.square(SOM - data)).sum(axis=2)\n",
    "    dist = np.sqrt(np.sum((SOM - data)** 2,axis=2))\n",
    "    return np.unravel_index(np.argmin(dist), dist.shape)"
   ]
  },
  {
   "cell_type": "code",
   "execution_count": 5,
   "id": "f407d64b",
   "metadata": {},
   "outputs": [],
   "source": [
    "def visualize_map(SOM, x_test, y_test):\n",
    "        wmap = {}\n",
    "        im = 0\n",
    "        for x, t in zip(x_test, y_test):\n",
    "            distance = np.sqrt(np.sum((SOM - x) ** 2, axis=2))\n",
    "            pos = np.unravel_index(np.argmin(distance, axis=None), distance.shape)\n",
    "            wmap[pos] = im\n",
    "            plt.text(pos[0],  pos[1],  str(t), color=plt.cm.rainbow(t / 10.), fontdict={'weight': 'bold',  'size': 11})\n",
    "            im = im + 1\n",
    "        plt.axis([0, SOM.shape[0], 0,  SOM.shape[1]])\n",
    "        plt.show()"
   ]
  },
  {
   "cell_type": "code",
   "execution_count": 6,
   "id": "57ab8e17",
   "metadata": {},
   "outputs": [],
   "source": [
    "def label_neurons(SOM, x_train, y_train):\n",
    "        # majority vote on reiterating train data and labeling winner node\n",
    "        labels = np.zeros((SOM.shape[0], SOM.shape[1], 10))\n",
    "        for idx, feature in enumerate(x_train):\n",
    "            distance = np.sqrt(np.sum((SOM - feature) ** 2, axis=2))\n",
    "            pos = np.unravel_index(np.argmin(distance, axis=None), distance.shape)\n",
    "            labels[pos[0], pos[1], y_train[idx]] += 1\n",
    "        labels = np.argmax(labels, axis=2)\n",
    "        return labels"
   ]
  },
  {
   "cell_type": "code",
   "execution_count": 7,
   "id": "d6d47509",
   "metadata": {},
   "outputs": [],
   "source": [
    "def accuracy(SOM, labels, x_test, y_test):\n",
    "        t = 0\n",
    "        for idx, feature in enumerate(x_test):\n",
    "            distance = np.sqrt(np.sum((SOM - feature) ** 2, axis=2))\n",
    "            pos = np.unravel_index(np.argmin(distance, axis=None), distance.shape)\n",
    "            if labels[pos[0], pos[1]] == y_test[idx]:\n",
    "                t += 1\n",
    "        return t / len(y_test)"
   ]
  },
  {
   "cell_type": "code",
   "execution_count": 8,
   "id": "5e9974b7",
   "metadata": {},
   "outputs": [],
   "source": [
    "(train_X, train_Y), (test_X, test_Y) = mnist.load_data()"
   ]
  },
  {
   "cell_type": "code",
   "execution_count": 9,
   "id": "1d261d23",
   "metadata": {},
   "outputs": [],
   "source": [
    "train_X = train_X/255.0\n",
    "test_X = test_X/255.0\n",
    "train_Y = train_Y\n",
    "test_Y = test_Y"
   ]
  },
  {
   "cell_type": "code",
   "execution_count": 10,
   "id": "e1eb63bc",
   "metadata": {},
   "outputs": [],
   "source": [
    "train_X = train_X.reshape(train_X.shape[0], 784).astype(float)\n",
    "test_X = test_X.reshape(test_X.shape[0], 784).astype(float)"
   ]
  },
  {
   "cell_type": "code",
   "execution_count": 11,
   "id": "6ff87e6a",
   "metadata": {},
   "outputs": [
    {
     "data": {
      "text/plain": [
       "<matplotlib.image.AxesImage at 0x202637c6d70>"
      ]
     },
     "execution_count": 11,
     "metadata": {},
     "output_type": "execute_result"
    },
    {
     "data": {
      "image/png": "[encoded data removed]",
      "text/plain": [
       "<Figure size 640x480 with 1 Axes>"
      ]
     },
     "metadata": {},
     "output_type": "display_data"
    }
   ],
   "source": [
    "plt.imshow(train_X[0].reshape(28, 28), cmap='gray')"
   ]
  },
  {
   "cell_type": "code",
   "execution_count": 12,
   "id": "728aa51c",
   "metadata": {},
   "outputs": [],
   "source": [
    "rand = np.random.RandomState(0)"
   ]
  },
  {
   "cell_type": "code",
   "execution_count": 13,
   "id": "6c002f18",
   "metadata": {},
   "outputs": [],
   "source": [
    "n = train_X.shape[0] #samples\n",
    "m = train_X.shape[1] #features\n",
    "dim = (10,10)\n",
    "SOM = rand.randint(0, 1, (dim[0], dim[1], m)).astype(float)"
   ]
  },
  {
   "cell_type": "code",
   "execution_count": 14,
   "id": "36a6b84e",
   "metadata": {},
   "outputs": [
    {
     "name": "stdout",
     "output_type": "stream",
     "text": [
      "0\n",
      "1\n",
      "2\n",
      "3\n",
      "4\n"
     ]
    }
   ],
   "source": [
    "SOM = train_SOM(SOM, train_X, epochs = 5)"
   ]
  },
  {
   "cell_type": "code",
   "execution_count": 15,
   "id": "55dd61f4",
   "metadata": {
    "scrolled": false
   },
   "outputs": [
    {
     "data": {
      "image/png": "[encoded data removed]",
      "text/plain": [
       "<Figure size 640x480 with 1 Axes>"
      ]
     },
     "metadata": {},
     "output_type": "display_data"
    }
   ],
   "source": [
    "visualize_map(SOM, test_X, test_Y)"
   ]
  },
  {
   "cell_type": "code",
   "execution_count": 16,
   "id": "09fe63ed",
   "metadata": {},
   "outputs": [],
   "source": [
    "#labels = label_neurons(SOM, train_X, train_Y)"
   ]
  },
  {
   "cell_type": "code",
   "execution_count": 17,
   "id": "84a325f0",
   "metadata": {},
   "outputs": [],
   "source": [
    "#print('accuracy', accuracy(SOM, labels, test_X, test_Y))\n",
    "#plt.hist(labels.flatten(), bins=10)"
   ]
  },
  {
   "cell_type": "code",
   "execution_count": 18,
   "id": "867e7ca2",
   "metadata": {},
   "outputs": [],
   "source": [
    "#np.unique(train_Y, return_counts=True)"
   ]
  },
  {
   "cell_type": "code",
   "execution_count": null,
   "id": "d6703d7c",
   "metadata": {},
   "outputs": [],
   "source": []
  }
 ],
 "metadata": {
  "kernelspec": {
   "display_name": "Python 3 (ipykernel)",
   "language": "python",
   "name": "python3"
  },
  "language_info": {
   "codemirror_mode": {
    "name": "ipython",
    "version": 3
   },
   "file_extension": ".py",
   "mimetype": "text/x-python",
   "name": "python",
   "nbconvert_exporter": "python",
   "pygments_lexer": "ipython3",
   "version": "3.10.6"
  },
  "vscode": {
   "interpreter": {
    "hash": "265fa86b1c110285542f2e57d58eb3e6d20304cae1a84884fe22f47175124b2b"
   }
  }
 },
 "nbformat": 4,
 "nbformat_minor": 5
}
