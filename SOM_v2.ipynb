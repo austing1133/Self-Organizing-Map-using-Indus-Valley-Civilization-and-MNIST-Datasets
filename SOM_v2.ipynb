{
 "cells": [
  {
   "cell_type": "markdown",
   "id": "af0c64ab",
   "metadata": {},
   "source": [
    "### Dependencies"
   ]
  },
  {
   "cell_type": "code",
   "execution_count": 1,
   "id": "83962022",
   "metadata": {},
   "outputs": [
    {
     "name": "stderr",
     "output_type": "stream",
     "text": [
      "2022-11-24 23:09:05.967958: I tensorflow/core/platform/cpu_feature_guard.cc:193] This TensorFlow binary is optimized with oneAPI Deep Neural Network Library (oneDNN) to use the following CPU instructions in performance-critical operations:  AVX2 FMA\n",
      "To enable them in other operations, rebuild TensorFlow with the appropriate compiler flags.\n"
     ]
    }
   ],
   "source": [
    "from keras.datasets import mnist\n",
    "import numpy as np\n",
    "import matplotlib.pyplot as plt\n",
    "from skimage.color import rgb2gray #conda install scikit-image\n",
    "from PIL import Image, ImageOps, ImageFilter #conda install pillow\n",
    "import glob"
   ]
  },
  {
   "cell_type": "markdown",
   "id": "198abb61",
   "metadata": {},
   "source": [
    "### Update below path to folder of IVC image screenshots"
   ]
  },
  {
   "cell_type": "code",
   "execution_count": 2,
   "id": "beaa300d",
   "metadata": {},
   "outputs": [],
   "source": [
    "def get_images():\n",
    "    images = []\n",
    "    #for f in glob.iglob(\"C:/Users/austi/OneDrive/Documents/AI Project/ivc/*.jpg\"):\n",
    "    for f in glob.iglob(\"/Users/austingay/OneDrive/Documents/AI Project/ivc/*.jpg\"):\n",
    "        images.append(Image.open(f))\n",
    "    \n",
    "    output_images = add_padding(images)\n",
    "    \n",
    "    return output_images"
   ]
  },
  {
   "cell_type": "markdown",
   "id": "765cd039",
   "metadata": {},
   "source": [
    "### Add padding around the images"
   ]
  },
  {
   "cell_type": "code",
   "execution_count": 3,
   "id": "3a5d4905",
   "metadata": {},
   "outputs": [],
   "source": [
    "def add_padding(images):\n",
    "    \n",
    "    padded_images = []\n",
    "    \n",
    "    for image in images:\n",
    "        image = image.convert(\"L\")\n",
    "        image = ImageOps.expand(image, border=5, fill='white')\n",
    "        padded_images.append(image)\n",
    "    \n",
    "    return padded_images"
   ]
  },
  {
   "cell_type": "markdown",
   "id": "dd63c260",
   "metadata": {},
   "source": [
    "### Crop the images to the max and min pixels in both the vertical and horizontal directions"
   ]
  },
  {
   "cell_type": "code",
   "execution_count": 4,
   "id": "f26d0642",
   "metadata": {},
   "outputs": [],
   "source": [
    "def crop_images(images):\n",
    "    \n",
    "    cropped_images = []\n",
    "    \n",
    "    for image in images:\n",
    "                \n",
    "        edges = image_edges(image)\n",
    "                \n",
    "        im = edges.load()\n",
    "        w, h = edges.size\n",
    "        \n",
    "        n_min_pixel = h\n",
    "        n_max_pixel = 0\n",
    "        m_min_pixel = w\n",
    "        m_max_pixel = 0\n",
    "                \n",
    "        for m in range(0, w-1):\n",
    "            for n in range(0, h-1):\n",
    "                if im[m,n] != 0:\n",
    "                    if n < n_min_pixel:\n",
    "                        n_min_pixel = n\n",
    "                    if n > n_max_pixel:\n",
    "                        n_max_pixel = n\n",
    "                    if m < m_min_pixel:\n",
    "                        m_min_pixel = m\n",
    "                    if m > m_max_pixel:\n",
    "                        m_max_pixel = m\n",
    "                else:\n",
    "                    continue\n",
    "        \n",
    "        #Crop image using found values\n",
    "                \n",
    "        cropped_images.append(image.crop((m_min_pixel - 1, n_min_pixel - 1, m_max_pixel + 1, n_max_pixel + 1)))\n",
    "        \n",
    "    return cropped_images"
   ]
  },
  {
   "cell_type": "markdown",
   "id": "f6fe63dc",
   "metadata": {},
   "source": [
    "### Function to filter image to find edges within the image. Produces an image containing only edges"
   ]
  },
  {
   "cell_type": "code",
   "execution_count": 5,
   "id": "3b7e94a7",
   "metadata": {},
   "outputs": [],
   "source": [
    "def image_edges(image):\n",
    "            \n",
    "    t = threshold_image(image, threshold=100)\n",
    "        \n",
    "    edges = t.filter(ImageFilter.Kernel((3,3),(-1,-1,-1,-1,8,-1,-1,-1,-1),1,0))\n",
    "        \n",
    "    edges = remove_border(edges)\n",
    "    \n",
    "    return edges"
   ]
  },
  {
   "cell_type": "markdown",
   "id": "b985defc",
   "metadata": {},
   "source": [
    "### Function to binarize an image using thresholding"
   ]
  },
  {
   "cell_type": "code",
   "execution_count": 6,
   "id": "983d1b5e",
   "metadata": {},
   "outputs": [],
   "source": [
    "def threshold_image(image, threshold):\n",
    "    \n",
    "    t = image.point( lambda p: 255 if p > threshold else 0 )\n",
    "    \n",
    "    return t"
   ]
  },
  {
   "cell_type": "markdown",
   "id": "e64e9c73",
   "metadata": {},
   "source": [
    "### Function to remove border of image. Strange effect when finding edges of an image"
   ]
  },
  {
   "cell_type": "code",
   "execution_count": 7,
   "id": "8b6f4ce2",
   "metadata": {},
   "outputs": [],
   "source": [
    "def remove_border(image):\n",
    "\n",
    "    pix = image.load()\n",
    "\n",
    "    for i in range(0, image.size[0]):\n",
    "        pix[i,0] = 0\n",
    "        pix[i, image.size[1]-1] = 0\n",
    "    for j in range(0, image.size[1]):\n",
    "        pix[0,j] = 0\n",
    "        pix[image.size[0]-1, j] = 0\n",
    "        \n",
    "    return image"
   ]
  },
  {
   "cell_type": "markdown",
   "id": "3b986618",
   "metadata": {},
   "source": [
    "### Resize the images to the same dimensions"
   ]
  },
  {
   "cell_type": "code",
   "execution_count": 8,
   "id": "36098366",
   "metadata": {},
   "outputs": [],
   "source": [
    "def resize_images(images, size):\n",
    "    \n",
    "    resized_images = []\n",
    "    \n",
    "    for image in images:\n",
    "        image = image.resize(size)\n",
    "        resized_images.append(image)\n",
    "        \n",
    "    return resized_images"
   ]
  },
  {
   "cell_type": "markdown",
   "id": "ee6c9d0a",
   "metadata": {},
   "source": [
    "### Enhance the images with smoothing and edge enhancing filters"
   ]
  },
  {
   "cell_type": "code",
   "execution_count": 9,
   "id": "84b8f07b",
   "metadata": {},
   "outputs": [],
   "source": [
    "def enhance_images(images):\n",
    "    \n",
    "    enhanced_images = []\n",
    "    \n",
    "    for image in images:\n",
    "        image = image.filter(ImageFilter.SMOOTH)\n",
    "        image = image.filter(ImageFilter.EDGE_ENHANCE)\n",
    "        #image = image.filter(ImageFilter.SHARPEN)\n",
    "        #image = image.filter(ImageFilter.SMOOTH)\n",
    "        \n",
    "        image = threshold_image(image, threshold=150)\n",
    "        \n",
    "        enhanced_images.append(image)\n",
    "    \n",
    "    return enhanced_images\n",
    "    "
   ]
  },
  {
   "cell_type": "markdown",
   "id": "58233617",
   "metadata": {},
   "source": [
    "### Function to implement all of the previous functions and transformations on the images"
   ]
  },
  {
   "cell_type": "code",
   "execution_count": 10,
   "id": "42162a5a",
   "metadata": {},
   "outputs": [],
   "source": [
    "def format_images(images, size):\n",
    "    \n",
    "    formatted_images = []\n",
    "    \n",
    "    images = crop_images(images)\n",
    "    \n",
    "    images = resize_images(images, size)\n",
    "    \n",
    "    images = enhance_images(images)\n",
    "    \n",
    "    for image in images:\n",
    "        formatted_images.append(np.asarray(image))\n",
    "    \n",
    "    return np.array(formatted_images)"
   ]
  },
  {
   "cell_type": "markdown",
   "id": "f560af3c",
   "metadata": {},
   "source": [
    "### Train the SOM"
   ]
  },
  {
   "cell_type": "code",
   "execution_count": 11,
   "id": "77f5b355",
   "metadata": {},
   "outputs": [],
   "source": [
    "def train_SOM(SOM, training_data, epochs = 10, learning_rate = 0.5, radius_sq = 1, lr_decay = 0.1, r_decay = 0.1):\n",
    "    learning_rate_0 = learning_rate\n",
    "    radius_sq_0 = radius_sq\n",
    "    for epoch in range(epochs):\n",
    "        for data in training_data:\n",
    "            x,y = bestMatchingUnit(SOM, data)\n",
    "            SOM = update_weights(SOM, data, learning_rate, radius_sq, (x,y))\n",
    "        learning_rate = learning_rate_0 * np.exp(-epoch * lr_decay)\n",
    "        radius_sq = radius_sq_0 * np.exp(-epoch * r_decay)         \n",
    "    return SOM"
   ]
  },
  {
   "cell_type": "markdown",
   "id": "c782959f",
   "metadata": {},
   "source": [
    "### Function to update the weight nodes of the SOM"
   ]
  },
  {
   "cell_type": "code",
   "execution_count": 12,
   "id": "c7701fd9",
   "metadata": {},
   "outputs": [],
   "source": [
    "def update_weights(SOM, data, learning_rate, radius_sq, BMU, step = 3):\n",
    "    x,y = BMU\n",
    "    \n",
    "    if radius_sq < 1e-3:\n",
    "        SOM[x,y] += learning_rate * (data - SOM[x,y])\n",
    "        return SOM\n",
    "    \n",
    "    for i in range(max(0, x - step), min(SOM.shape[0], x + step)):\n",
    "        for j in range(max(0, y - step), min(SOM.shape[1], y + step)):\n",
    "            dist_sq = np.square(i - x) + np.square(j - y)\n",
    "            dist_func = np.exp(-dist_sq / 2 / radius_sq)\n",
    "            SOM[i,j] += learning_rate * dist_func * (data - SOM[i,j])   \n",
    "    return SOM    "
   ]
  },
  {
   "cell_type": "markdown",
   "id": "d33b4312",
   "metadata": {},
   "source": [
    "### Function that finds the best matching node to the input data"
   ]
  },
  {
   "cell_type": "code",
   "execution_count": 13,
   "id": "67680087",
   "metadata": {},
   "outputs": [],
   "source": [
    "def bestMatchingUnit(SOM, data):\n",
    "    # dist = (np.square(SOM - data)).sum(axis=2)\n",
    "    dist = np.sqrt(np.sum((SOM - data)** 2,axis=2))\n",
    "    return np.unravel_index(np.argmin(dist), dist.shape)"
   ]
  },
  {
   "cell_type": "markdown",
   "id": "adf7f742",
   "metadata": {},
   "source": [
    "### Displays the SOM"
   ]
  },
  {
   "cell_type": "code",
   "execution_count": 14,
   "id": "b446dffc",
   "metadata": {},
   "outputs": [],
   "source": [
    "def print_map(SOM, dim, image_size):\n",
    "    \n",
    "    %matplotlib tk\n",
    "    \n",
    "    fig, ax = plt.subplots(dim[0],dim[1])\n",
    "    \n",
    "    for i in range(0, dim[0]):\n",
    "        for j in range(0, dim[1]):\n",
    "            ax[i,j].imshow(SOM[i][j].reshape(image_size[1], image_size[0]), cmap='gray')\n",
    "            ax[i,j].axis('off')\n",
    "    "
   ]
  },
  {
   "cell_type": "markdown",
   "id": "2f88c581",
   "metadata": {},
   "source": [
    "### Call Function to obtain images from folder"
   ]
  },
  {
   "cell_type": "code",
   "execution_count": 15,
   "id": "5e9974b7",
   "metadata": {},
   "outputs": [],
   "source": [
    "input_images = get_images()"
   ]
  },
  {
   "cell_type": "markdown",
   "id": "3e6d6299",
   "metadata": {},
   "source": [
    "### Define the image sized to be used when resizing images"
   ]
  },
  {
   "cell_type": "code",
   "execution_count": 16,
   "id": "8743eab6",
   "metadata": {},
   "outputs": [],
   "source": [
    "image_size = (40,50)"
   ]
  },
  {
   "cell_type": "markdown",
   "id": "248878c4",
   "metadata": {},
   "source": [
    "### Call function to format and enhance images"
   ]
  },
  {
   "cell_type": "code",
   "execution_count": 17,
   "id": "2daa63fd",
   "metadata": {},
   "outputs": [],
   "source": [
    "images = format_images(input_images, image_size)"
   ]
  },
  {
   "cell_type": "markdown",
   "id": "9285f2e8",
   "metadata": {},
   "source": [
    "### Reshape images into 1d array"
   ]
  },
  {
   "cell_type": "code",
   "execution_count": 19,
   "id": "e1eb63bc",
   "metadata": {},
   "outputs": [],
   "source": [
    "images = images.reshape(images.shape[0], images.shape[1] * images.shape[2]).astype(float)"
   ]
  },
  {
   "cell_type": "code",
   "execution_count": 20,
   "id": "6c93ce6e",
   "metadata": {},
   "outputs": [
    {
     "data": {
      "text/plain": [
       "array([[255., 255., 255., ..., 255., 255., 255.],\n",
       "       [255., 255., 255., ..., 255., 255., 255.],\n",
       "       [255., 255., 255., ..., 255., 255., 255.],\n",
       "       ...,\n",
       "       [255., 255., 255., ..., 255., 255., 255.],\n",
       "       [255., 255., 255., ..., 255., 255., 255.],\n",
       "       [255., 255., 255., ..., 255., 255., 255.]])"
      ]
     },
     "execution_count": 20,
     "metadata": {},
     "output_type": "execute_result"
    }
   ],
   "source": [
    "images"
   ]
  },
  {
   "cell_type": "markdown",
   "id": "138f71e1",
   "metadata": {},
   "source": [
    "### Display Raw Image"
   ]
  },
  {
   "cell_type": "code",
   "execution_count": 22,
   "id": "f3eb3039",
   "metadata": {},
   "outputs": [
    {
     "data": {
      "text/plain": [
       "<matplotlib.image.AxesImage at 0x7fd47e52d9f0>"
      ]
     },
     "execution_count": 22,
     "metadata": {},
     "output_type": "execute_result"
    },
    {
     "data": {
      "image/png": "[encoded data removed]",
      "text/plain": [
       "<Figure size 640x480 with 1 Axes>"
      ]
     },
     "metadata": {},
     "output_type": "display_data"
    }
   ],
   "source": [
    "plt.imshow(np.asarray(input_images[83]), cmap='gray')"
   ]
  },
  {
   "cell_type": "markdown",
   "id": "86644922",
   "metadata": {},
   "source": [
    "### Display image after image transformations"
   ]
  },
  {
   "cell_type": "code",
   "execution_count": 23,
   "id": "6ff87e6a",
   "metadata": {},
   "outputs": [
    {
     "data": {
      "text/plain": [
       "<matplotlib.image.AxesImage at 0x7fd47e5a0eb0>"
      ]
     },
     "execution_count": 23,
     "metadata": {},
     "output_type": "execute_result"
    },
    {
     "data": {
      "image/png": "[encoded data removed]",
      "text/plain": [
       "<Figure size 640x480 with 1 Axes>"
      ]
     },
     "metadata": {},
     "output_type": "display_data"
    }
   ],
   "source": [
    "plt.imshow(images[83].reshape(image_size[1], image_size[0]), cmap='gray')"
   ]
  },
  {
   "cell_type": "markdown",
   "id": "87117201",
   "metadata": {},
   "source": [
    "### Create initial SOM"
   ]
  },
  {
   "cell_type": "code",
   "execution_count": 33,
   "id": "728aa51c",
   "metadata": {},
   "outputs": [],
   "source": [
    "rand = np.random.RandomState(4)"
   ]
  },
  {
   "cell_type": "code",
   "execution_count": 34,
   "id": "6c002f18",
   "metadata": {},
   "outputs": [],
   "source": [
    "n = images.shape[0] #samples\n",
    "m = images.shape[1] #features\n",
    "dim = (10,10)\n",
    "SOM = rand.randint(0, 255, (dim[0], dim[1], m)).astype(float)"
   ]
  },
  {
   "cell_type": "markdown",
   "id": "07d09512",
   "metadata": {},
   "source": [
    "### Train SOM using Images"
   ]
  },
  {
   "cell_type": "code",
   "execution_count": 35,
   "id": "36a6b84e",
   "metadata": {},
   "outputs": [],
   "source": [
    "SOM = train_SOM(SOM, images, epochs = 1000)"
   ]
  },
  {
   "cell_type": "markdown",
   "id": "2e125555",
   "metadata": {},
   "source": [
    "### Print the Final Result"
   ]
  },
  {
   "cell_type": "code",
   "execution_count": 36,
   "id": "ce6201d1",
   "metadata": {},
   "outputs": [],
   "source": [
    "print_map(SOM, dim, image_size)"
   ]
  },
  {
   "cell_type": "code",
   "execution_count": null,
   "id": "d6703d7c",
   "metadata": {},
   "outputs": [],
   "source": []
  }
 ],
 "metadata": {
  "kernelspec": {
   "display_name": "Python 3 (ipykernel)",
   "language": "python",
   "name": "python3"
  },
  "language_info": {
   "codemirror_mode": {
    "name": "ipython",
    "version": 3
   },
   "file_extension": ".py",
   "mimetype": "text/x-python",
   "name": "python",
   "nbconvert_exporter": "python",
   "pygments_lexer": "ipython3",
   "version": "3.10.6"
  },
  "vscode": {
   "interpreter": {
    "hash": "146cd3b7518f873e9ae788719c8d6f5299f63d6426e8f70623f18e662dc25912"
   }
  }
 },
 "nbformat": 4,
 "nbformat_minor": 5
}
